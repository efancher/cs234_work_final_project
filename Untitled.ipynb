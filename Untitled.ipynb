{
 "cells": [
  {
   "cell_type": "code",
   "execution_count": 215,
   "metadata": {},
   "outputs": [],
   "source": [
    "using POMDPs\n",
    "using Random # for AbstractRNG\n",
    "using POMDPModelTools"
   ]
  },
  {
   "cell_type": "code",
   "execution_count": 216,
   "metadata": {},
   "outputs": [],
   "source": [
    "struct ChainMDP <: MDP{Int, Symbol}\n",
    "    len::Int\n",
    "    p_success::Float64\n",
    "    discount::Float64\n",
    "end\n"
   ]
  },
  {
   "cell_type": "code",
   "execution_count": 217,
   "metadata": {},
   "outputs": [],
   "source": [
    "function POMDPs.generate_s(p::ChainMDP, s::Int, a::Int, rng::AbstractRNG)\n",
    "    if a == 2\n",
    "          success = min(s+1, p.len)\n",
    "        failure = max(s-1, 1)\n",
    "    else # a == :left\n",
    "        success = max(s-1, 1)\n",
    "        failure = min(s+1, p.len)\n",
    "    end\n",
    "    if a == 2 && s + 2 == p.len\n",
    "        return p.len - 1\n",
    "    elseif a == 1 && s == 2\n",
    "        return 1\n",
    "    end\n",
    "    return rand(rng) < p.p_success ? success : failure\n",
    "end\n"
   ]
  },
  {
   "cell_type": "code",
   "execution_count": null,
   "metadata": {},
   "outputs": [],
   "source": []
  },
  {
   "cell_type": "code",
   "execution_count": 218,
   "metadata": {},
   "outputs": [],
   "source": [
    "function POMDPs.reward(p::ChainMDP, s::Int, a::Int)\n",
    "    if s == 2\n",
    "        return -10\n",
    "    end\n",
    "    if s + 2 == p.len\n",
    "        return 10\n",
    "    end\n",
    "    return 0\n",
    "end"
   ]
  },
  {
   "cell_type": "code",
   "execution_count": 219,
   "metadata": {},
   "outputs": [],
   "source": [
    "POMDPs.initialstate_distribution(m::ChainMDP) = Deterministic(4)"
   ]
  },
  {
   "cell_type": "code",
   "execution_count": 220,
   "metadata": {},
   "outputs": [],
   "source": [
    "function POMDPs.isterminal(p::ChainMDP, s::Int)\n",
    "    if s == 1\n",
    "        return true\n",
    "    end\n",
    "    if s+1 == p.len\n",
    "        return true\n",
    "    end\n",
    "    return false\n",
    "end        "
   ]
  },
  {
   "cell_type": "code",
   "execution_count": 221,
   "metadata": {},
   "outputs": [
    {
     "name": "stdout",
     "output_type": "stream",
     "text": [
      "s = 4\n",
      "a = 2\n",
      "r = 0\n",
      "\n",
      "s = 5\n",
      "a = 2\n",
      "r = 0\n",
      "\n",
      "s = 6\n",
      "a = 2\n",
      "r = 10\n",
      "\n"
     ]
    }
   ],
   "source": [
    "using POMDPSimulators\n",
    "using POMDPPolicies\n",
    "\n",
    "ChainMDP() = ChainMDP(6+2,.9,.9)\n",
    "m = ChainMDP()\n",
    "\n",
    "# policy that maps every input to a right action\n",
    "policy = FunctionPolicy(s->2)\n",
    "\n",
    "for (s, a, r) in stepthrough(m, policy, \"s,a,r\", max_steps=10)\n",
    "    @show s\n",
    "    @show a\n",
    "    @show r\n",
    "    render(m, (s,a,r))\n",
    "    println()\n",
    "end\n"
   ]
  },
  {
   "cell_type": "code",
   "execution_count": 222,
   "metadata": {},
   "outputs": [
    {
     "name": "stdout",
     "output_type": "stream",
     "text": [
      "s,a,r:(4,1,0)\n",
      "s,a,r:(3,1,0)\n",
      "s,a,r:(2,1,-10)\n"
     ]
    }
   ],
   "source": [
    "using POMDPSimulators\n",
    "using POMDPPolicies\n",
    "\n",
    "ChainMDP() = ChainMDP(6+2,.9,.9)\n",
    "m = ChainMDP()\n",
    "\n",
    "# policy that maps every input to a left action\n",
    "policy = FunctionPolicy(s->1)\n",
    "\n",
    "for (s, a, r) in stepthrough(m, policy, \"s,a,r\", max_steps=10)\n",
    "    # @show s\n",
    "    # @show a\n",
    "    # @show r\n",
    "    render(m, (s,a,r))\n",
    "    println(\"s,a,r:($s,$a,$r)\")\n",
    "end\n"
   ]
  },
  {
   "cell_type": "code",
   "execution_count": 226,
   "metadata": {},
   "outputs": [
    {
     "name": "stdout",
     "output_type": "stream",
     "text": [
      "print agent 1 result: (s = 6, a = 2, r = 0)\n",
      "print agent 2 result: (s = 6, a = 2, r = 0)\n",
      "print agent 3 result: (s = 6, a = 2, r = 0)\n",
      "print agent 4 result: (s = 6, a = 2, r = 0)\n",
      "print agent 5 result: (s = 6, a = 2, r = 0)\n",
      "print agent 1 result: (s = 7, a = 2, r = 0)\n",
      "print agent 2 result: (s = 7, a = 2, r = 0)\n",
      "print agent 3 result: (s = 7, a = 2, r = 0)\n",
      "print agent 4 result: (s = 7, a = 2, r = 0)\n",
      "print agent 5 result: (s = 7, a = 2, r = 0)\n",
      "print agent 1 result: (s = 8, a = 2, r = 0)\n",
      "print agent 2 result: (s = 8, a = 2, r = 0)\n",
      "print agent 3 result: (s = 8, a = 2, r = 0)\n",
      "print agent 4 result: (s = 8, a = 2, r = 0)\n",
      "print agent 5 result: (s = 6, a = 2, r = 0)\n",
      "print agent 1 result: (s = 7, a = 2, r = 0)\n",
      "print agent 2 result: (s = 9, a = 2, r = 0)\n",
      "print agent 3 result: (s = 7, a = 2, r = 0)\n",
      "print agent 4 result: (s = 9, a = 2, r = 0)\n",
      "print agent 5 result: (s = 7, a = 2, r = 0)\n",
      "print agent 1 result: (s = 8, a = 2, r = 0)\n",
      "print agent 2 result: (s = 10, a = 2, r = 10)\n",
      "print agent 3 result: (s = 8, a = 2, r = 0)\n",
      "print agent 4 result: (s = 10, a = 2, r = 10)\n",
      "print agent 5 result: (s = 8, a = 2, r = 0)\n",
      "print agent 1 result: (s = 9, a = 2, r = 0)\n",
      "agent 2 is done\n",
      "print agent 3 result: (s = 9, a = 2, r = 0)\n",
      "agent 4 is done\n",
      "print agent 5 result: (s = 9, a = 2, r = 0)\n",
      "print agent 1 result: (s = 10, a = 2, r = 10)\n",
      "agent 2 is done\n",
      "print agent 3 result: (s = 10, a = 2, r = 10)\n",
      "agent 4 is done\n",
      "print agent 5 result: (s = 10, a = 2, r = 10)\n"
     ]
    }
   ],
   "source": [
    "\n",
    "\n",
    "\n",
    "n_agents = 5\n",
    "agents = Any[]\n",
    "n_states = 10\n",
    "# setup agents\n",
    "\n",
    "# policy that maps every input to a right action\n",
    "policy = FunctionPolicy(s->2)\n",
    "for i in 1:n_agents\n",
    "    m = ChainMDP(n_states+2,.9,.9)\n",
    "    POMDPs.initialstate_distribution(m::ChainMDP) = Deterministic(Int64((n_states+2)/2))\n",
    "    push!(agents, Iterators.Stateful(stepthrough(m, policy, \"s,a,r\", max_steps=10)))\n",
    "end\n",
    "\n",
    "done = false\n",
    "while ! done\n",
    "   done = true\n",
    "   for i in 1:n_agents\n",
    "        if isempty(agents[i])\n",
    "            println(\"agent $i is done\")\n",
    "            continue\n",
    "        end\n",
    "        res = popfirst!(agents[i])\n",
    "        println(\"print agent $i result: $res\")\n",
    "        \n",
    "   end\n",
    "    \n",
    "   for i in 1:n_agents\n",
    "        if ! isempty(agents[i])\n",
    "            done = false\n",
    "        end\n",
    "    end\n",
    "end"
   ]
  },
  {
   "cell_type": "code",
   "execution_count": 198,
   "metadata": {},
   "outputs": [
    {
     "name": "stdout",
     "output_type": "stream",
     "text": [
      "search:\n",
      "\n",
      "Couldn't find \u001b[36mMDPSimIterator\u001b[39m\n",
      "Perhaps you meant iterator\n"
     ]
    },
    {
     "data": {
      "text/markdown": [
       "No documentation found.\n",
       "\n",
       "Binding `MDPSimIterator` does not exist.\n"
      ],
      "text/plain": [
       "  No documentation found.\n",
       "\n",
       "  Binding \u001b[36mMDPSimIterator\u001b[39m does not exist."
      ]
     },
     "execution_count": 198,
     "metadata": {},
     "output_type": "execute_result"
    }
   ],
   "source": [
    "?MDPSimIterator"
   ]
  },
  {
   "cell_type": "code",
   "execution_count": null,
   "metadata": {},
   "outputs": [],
   "source": []
  }
 ],
 "metadata": {
  "kernelspec": {
   "display_name": "Julia 1.0.0",
   "language": "julia",
   "name": "julia-1.0"
  },
  "language_info": {
   "file_extension": ".jl",
   "mimetype": "application/julia",
   "name": "julia",
   "version": "1.0.0"
  }
 },
 "nbformat": 4,
 "nbformat_minor": 2
}
