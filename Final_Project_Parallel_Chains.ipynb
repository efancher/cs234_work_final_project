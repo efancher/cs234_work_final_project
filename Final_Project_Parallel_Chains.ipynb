{
 "cells": [
  {
   "cell_type": "code",
   "execution_count": 1,
   "metadata": {},
   "outputs": [
    {
     "name": "stdout",
     "output_type": "stream",
     "text": [
      "\u001b[32m\u001b[1m  Updating\u001b[22m\u001b[39m registry at `~/.julia/registries/General`\n",
      "\u001b[32m\u001b[1m  Updating\u001b[22m\u001b[39m git-repo `https://github.com/JuliaRegistries/General.git`\n",
      "\u001b[2K\u001b[?25h[1mFetching:\u001b[22m\u001b[39m [========================================>]  100.0 %.0 %\u001b[32m\u001b[1m  Updating\u001b[22m\u001b[39m registry at `~/.julia/registries/JuliaPOMDP`\n",
      "\u001b[32m\u001b[1m  Updating\u001b[22m\u001b[39m git-repo `https://github.com/JuliaPOMDP/Registry`\n",
      "\u001b[?25l\u001b[2K\u001b[?25h\u001b[32m\u001b[1m Resolving\u001b[22m\u001b[39m package versions...\n",
      "\u001b[32m\u001b[1m Installed\u001b[22m\u001b[39m WebSockets ───────── v1.3.1\n",
      "\u001b[32m\u001b[1m Installed\u001b[22m\u001b[39m TranscodingStreams ─ v0.9.0\n",
      "\u001b[32m\u001b[1m  Updating\u001b[22m\u001b[39m `~/.julia/environments/v1.0/Project.toml`\n",
      "\u001b[90m [no changes]\u001b[39m\n",
      "\u001b[32m\u001b[1m  Updating\u001b[22m\u001b[39m `~/.julia/environments/v1.0/Manifest.toml`\n",
      " \u001b[90m [3bb67fe8]\u001b[39m\u001b[93m ↑ TranscodingStreams v0.8.1 ⇒ v0.9.0\u001b[39m\n",
      " \u001b[90m [104b5d7c]\u001b[39m\u001b[93m ↑ WebSockets v1.3.0 ⇒ v1.3.1\u001b[39m\n",
      "\u001b[32m\u001b[1m   Cloning\u001b[22m\u001b[39m registry from \"https://github.com/JuliaPOMDP/Registry\"\n",
      "\u001b[2K\u001b[?25h[1mFetching:\u001b[22m\u001b[39m [========================================>]  100.0 %.0 %=========>                               ]  21.4 %]  42.7 %==========================>              ]  64.1 %]  85.3 %"
     ]
    },
    {
     "name": "stderr",
     "output_type": "stream",
     "text": [
      "┌ Info: registry `JuliaPOMDP` already exists in `~/.julia/registries`\n",
      "└ @ POMDPs /Users/efan/.julia/packages/POMDPs/JiYXY/src/utils.jl:65\n"
     ]
    },
    {
     "name": "stdout",
     "output_type": "stream",
     "text": [
      "\u001b[32m\u001b[1m Resolving\u001b[22m\u001b[39m package versions...\n",
      "\u001b[32m\u001b[1m  Updating\u001b[22m\u001b[39m `~/.julia/environments/v1.0/Project.toml`\n",
      "\u001b[90m [no changes]\u001b[39m\n",
      "\u001b[32m\u001b[1m  Updating\u001b[22m\u001b[39m `~/.julia/environments/v1.0/Manifest.toml`\n",
      "\u001b[90m [no changes]\u001b[39m\n"
     ]
    }
   ],
   "source": [
    "using POMDPs\n",
    "using Random # for AbstractRNG\n",
    "using POMDPModelTools\n",
    "using Pkg\n",
    "\n",
    "using DataFrames\n",
    "Pkg.add(\"JSON\")\n",
    "\n",
    "POMDPs.add_registry()\n",
    "using Pkg; Pkg.add(\"DiscreteValueIteration\")\n",
    "\n",
    "using DiscreteValueIteration"
   ]
  },
  {
   "cell_type": "code",
   "execution_count": 2,
   "metadata": {},
   "outputs": [
    {
     "name": "stdout",
     "output_type": "stream",
     "text": [
      "\u001b[32m\u001b[1m Resolving\u001b[22m\u001b[39m package versions...\n",
      "\u001b[32m\u001b[1m  Updating\u001b[22m\u001b[39m `~/.julia/environments/v1.0/Project.toml`\n",
      "\u001b[90m [no changes]\u001b[39m\n",
      "\u001b[32m\u001b[1m  Updating\u001b[22m\u001b[39m `~/.julia/environments/v1.0/Manifest.toml`\n",
      "\u001b[90m [no changes]\u001b[39m\n"
     ]
    }
   ],
   "source": [
    "using Pkg\n",
    "Pkg.add(\"StaticArrays\")\n",
    "using POMDPSimulators\n",
    "using POMDPPolicies"
   ]
  },
  {
   "cell_type": "code",
   "execution_count": null,
   "metadata": {},
   "outputs": [],
   "source": [
    "\n",
    "include(\"./ParallelChains.jl\")"
   ]
  },
  {
   "cell_type": "code",
   "execution_count": null,
   "metadata": {},
   "outputs": [],
   "source": [
    "num_chains = 5\n",
    "num_states = 6\n",
    "r_mean = 5.0\n",
    "r_std = 2.0\n",
    "\n",
    "true_values = DataFrame(theta = [r_mean for i in 1:num_chains],\n",
    "                        std = [r_std  for i in 1:num_chains])"
   ]
  },
  {
   "cell_type": "code",
   "execution_count": 37,
   "metadata": {},
   "outputs": [
    {
     "name": "stdout",
     "output_type": "stream",
     "text": [
      "s,a,r:([1, 1],3,0)\n",
      "s,a,r:([3, 2],3,0)\n",
      "s,a,r:([3, 3],3,0)\n",
      "s,a,r:([3, 4],3,0)\n",
      "s,a,r:([3, 5],3,0)\n",
      "s,a,r:([3, 6],3,0)\n",
      "s,a,r:([3, 7],3,0)\n",
      "s,a,r:([3, 8],3,0)\n",
      "s,a,r:([3, 9],3,0)\n",
      "s,a,r:([3, 10],3,0)\n",
      "s,a,r:([1, 1],3,0)\n",
      "s,a,r:([3, 2],3,0)\n",
      "s,a,r:([3, 3],3,0)\n",
      "s,a,r:([3, 4],3,0)\n",
      "s,a,r:([3, 5],3,0)\n",
      "s,a,r:([3, 6],3,0)\n",
      "s,a,r:([3, 7],3,0)\n",
      "s,a,r:([3, 8],3,0)\n",
      "s,a,r:([3, 9],3,0)\n",
      "s,a,r:([3, 10],3,0)\n",
      "s,a,r:([1, 1],3,0)\n",
      "s,a,r:([3, 2],3,0)\n",
      "s,a,r:([3, 3],3,0)\n",
      "s,a,r:([3, 4],3,0)\n",
      "s,a,r:([3, 5],3,0)\n",
      "s,a,r:([3, 6],3,0)\n",
      "s,a,r:([3, 7],3,0)\n",
      "s,a,r:([3, 8],3,0)\n",
      "s,a,r:([3, 9],3,0)\n",
      "s,a,r:([3, 10],3,0)\n"
     ]
    }
   ],
   "source": [
    "using POMDPSimulators\n",
    "using POMDPPolicies\n",
    "rng = MersenneTwister(1235);\n",
    "\n",
    "PParallelChainMDP() = PParallelChainMDP(num_states+1,num_chains, .9,\n",
    "\n",
    "        true_values.theta,\n",
    "        true_values.std,\n",
    "        MersenneTwister(1235))\n",
    "m = PParallelChainMDP()\n",
    "\n",
    "# policy that maps every input to an action\n",
    "policy = FunctionPolicy(s->3)\n",
    "for i in 1:3\n",
    "    for (s, a, r) in stepthrough(m, policy, \"s,a,r\", max_steps=10)\n",
    "      render(m, (s,a,r))\n",
    "      println(\"s,a,r:($s,$a,$r)\")\n",
    "    end\n",
    "end"
   ]
  },
  {
   "cell_type": "code",
   "execution_count": null,
   "metadata": {},
   "outputs": [],
   "source": [
    "curry(f, a) = (xs...) -> f(a, xs...)"
   ]
  },
  {
   "cell_type": "code",
   "execution_count": null,
   "metadata": {},
   "outputs": [],
   "source": [
    "using POMDPSimulators\n",
    "using POMDPPolicies\n",
    "rng = MersenneTwister(1235);\n",
    "\n",
    "num_chains = 10\n",
    "num_states = 30\n",
    "r_mean = 5.0\n",
    "r_std = 2.0\n",
    "@requirements_info ValueIterationSolver() PParallelChainMDP(num_states+1,num_chains, .9,\n",
    "\n",
    "        randn(rng, Float32, num_chains) .* r_std .+ r_mean)"
   ]
  },
  {
   "cell_type": "code",
   "execution_count": 51,
   "metadata": {},
   "outputs": [
    {
     "name": "stdout",
     "output_type": "stream",
     "text": [
      "[-11.0276, 18.6375]\n",
      "reward: -12.818057603057788\n",
      "reward: 19.165515612310358\n",
      "[Iteration 1   ] residual:          0 | iteration runtime:      0.307 ms, (  0.000307 s total)\n"
     ]
    },
    {
     "data": {
      "text/plain": [
       "ValueIterationPolicy{Float64}([0.0 0.0; 0.0 0.0; … ; 0.0 0.0; 0.0 0.0], [0.0, 0.0, 0.0, 0.0, 0.0, 0.0, 0.0, 0.0, 0.0, 0.0  …  0.0, 0.0, 0.0, 0.0, 0.0, 0.0, 0.0, 0.0, 0.0, 0.0], [1, 1, 1, 1, 1, 1, 1, 1, 1, 1  …  1, 1, 1, 1, 1, 1, 1, 1, 1, 1], [1, 2], true, PParallelChainMDP(31, 2, 0.9, [-11.0276, 18.6375], [1.0, 1.0], MersenneTwister(UInt32[0x000004d3], Random.DSFMT.DSFMT_state(Int32[1530564531, 1073184989, -470697644, 1073462633, -1352142760, 1073554780, 1647934450, 1073384872, 1869502942, 1072864888  …  1558688637, 1073219162, 934987498, 1073204542, 505616865, -1680158283, 679873689, -1200220289, 382, 0]), [1.09516, 1.2709, 1.90632, 1.83358, 1.94505, 1.44367, 1.90458, 1.9416, 1.03759, 1.99608  …  1.97544, 1.35875, 1.80559, 1.15357, 1.28736, 1.44507, 1.12787, 1.11129, 1.50155, 1.48761], UInt128[0x00000000000000000000000000000000, 0x00000000000000000000000000000000, 0x00000000000000000000000000000000, 0x00000000000000000000000000000000, 0x00000000000000000000000000000000, 0x00000000000000000000000000000000, 0x00000000000000000000000000000000, 0x00000000000000000000000000000000, 0x00000000000000000000000000000000, 0x00000000000000000000000000000000  …  0x00000000000000000000000000000000, 0x00000000000000000000000000000000, 0x00000000000000000000000000000000, 0x00000000000000000000000000000000, 0x00000000000000000000000000000000, 0x00000000000000000000000000000000, 0x00000000000000000000000000000000, 0x00000000000000000000000000000000, 0x00000000000000000000000000000000, 0x00000000000000000000000000000000], 6, 0)))"
      ]
     },
     "execution_count": 51,
     "metadata": {},
     "output_type": "execute_result"
    }
   ],
   "source": [
    "num_chains=2\n",
    "r_mean = 0\n",
    "r_std = 1\n",
    "## sigma is 1\n",
    "## Reward is noisy ~ N(theta_c, sigma^2)\n",
    "## Initial prior mean is N(theta_c, sigma^2 + c)\n",
    "rng = MersenneTwister(1235)\n",
    "th_c = [randn(rng, Float64, 1)[1] * (100 + i) for i in 1:num_chains]\n",
    "println(th_c)\n",
    "true_values = DataFrame(theta = th_c,\n",
    "                         std = [r_std  for i in 1:num_chains])\n",
    "mdp = PParallelChainMDP(num_states+1,num_chains, .9,\n",
    "        true_values.theta,\n",
    "        true_values.std, \n",
    "        rng)\n",
    "# @requirements_info ValueIterationSolver() mdp\n",
    "solver = ValueIterationSolver(max_iterations=100, belres=1e-6, include_Q=true, verbose=true) # initializes the Solver type\n",
    "vip = solve(solver, mdp) # runs value iterations\n"
   ]
  },
  {
   "cell_type": "code",
   "execution_count": 50,
   "metadata": {},
   "outputs": [
    {
     "data": {
      "text/plain": [
       "62×2 Array{Float64,2}:\n",
       " 0.0  0.0\n",
       " 0.0  0.0\n",
       " 0.0  0.0\n",
       " 0.0  0.0\n",
       " 0.0  0.0\n",
       " 0.0  0.0\n",
       " 0.0  0.0\n",
       " 0.0  0.0\n",
       " 0.0  0.0\n",
       " 0.0  0.0\n",
       " 0.0  0.0\n",
       " 0.0  0.0\n",
       " 0.0  0.0\n",
       " ⋮       \n",
       " 0.0  0.0\n",
       " 0.0  0.0\n",
       " 0.0  0.0\n",
       " 0.0  0.0\n",
       " 0.0  0.0\n",
       " 0.0  0.0\n",
       " 0.0  0.0\n",
       " 0.0  0.0\n",
       " 0.0  0.0\n",
       " 0.0  0.0\n",
       " 0.0  0.0\n",
       " 0.0  0.0"
      ]
     },
     "execution_count": 50,
     "metadata": {},
     "output_type": "execute_result"
    }
   ],
   "source": [
    "vip.qmat"
   ]
  },
  {
   "cell_type": "code",
   "execution_count": null,
   "metadata": {},
   "outputs": [],
   "source": [
    "LinearIndices((num_chains, num_states))[1,1]"
   ]
  },
  {
   "cell_type": "code",
   "execution_count": null,
   "metadata": {},
   "outputs": [],
   "source": [
    "\n",
    "for i in 1:num_chains\n",
    "    println(\"q value for (1,1),$i is $(vip.qmat[LinearIndices((num_chains, num_states))[1,1],i])\")\n",
    "    println(\"q value for $((i,num_states)),1 is $(vip.qmat[LinearIndices((num_chains, num_states))[i,num_states],1])\")\n",
    "end"
   ]
  },
  {
   "cell_type": "code",
   "execution_count": null,
   "metadata": {},
   "outputs": [],
   "source": []
  },
  {
   "cell_type": "code",
   "execution_count": null,
   "metadata": {},
   "outputs": [],
   "source": [
    "mdp.Rs"
   ]
  },
  {
   "cell_type": "code",
   "execution_count": 36,
   "metadata": {},
   "outputs": [
    {
     "name": "stdout",
     "output_type": "stream",
     "text": [
      "WARNING: No implementation of POMDPModelTools.render(m::PParallelChainMDP, step) found. Falling back to text default.\n",
      "s,a,r:([1, 1],1,0)\n",
      "s,a,r:([1, 2],1,0)\n",
      "s,a,r:([1, 3],1,0)\n",
      "s,a,r:([1, 4],1,0)\n",
      "s,a,r:([1, 5],1,0)\n",
      "s,a,r:([1, 6],1,0)\n",
      "s,a,r:([1, 7],1,0)\n",
      "s,a,r:([1, 8],1,0)\n",
      "s,a,r:([1, 9],1,0)\n",
      "s,a,r:([1, 10],1,0)\n",
      "s,a,r:([1, 11],1,0)\n",
      "s,a,r:([1, 12],1,0)\n",
      "s,a,r:([1, 13],1,0)\n",
      "s,a,r:([1, 14],1,0)\n",
      "s,a,r:([1, 15],1,0)\n",
      "s,a,r:([1, 16],1,0)\n",
      "s,a,r:([1, 17],1,0)\n",
      "s,a,r:([1, 18],1,0)\n",
      "s,a,r:([1, 19],1,0)\n",
      "s,a,r:([1, 20],1,0)\n",
      "s,a,r:([1, 21],1,0)\n",
      "s,a,r:([1, 22],1,0)\n",
      "s,a,r:([1, 23],1,0)\n",
      "s,a,r:([1, 24],1,0)\n",
      "s,a,r:([1, 25],1,0)\n",
      "s,a,r:([1, 26],1,0)\n",
      "s,a,r:([1, 27],1,0)\n",
      "s,a,r:([1, 28],1,0)\n",
      "s,a,r:([1, 29],1,0)\n",
      "reward: [-11.1731]\n",
      "s,a,r:([1, 30],1,0)\n"
     ]
    }
   ],
   "source": [
    "using POMDPSimulators\n",
    "using POMDPPolicies\n",
    "\n",
    "\n",
    "\n",
    "for (s, a, r) in stepthrough(mdp, vip, \"s,a,r\", max_steps=40)\n",
    "    render(mdp, (s,a,r))\n",
    "    println(\"s,a,r:($s,$a,$r)\")\n",
    "end\n",
    "\n"
   ]
  },
  {
   "cell_type": "code",
   "execution_count": 53,
   "metadata": {},
   "outputs": [
    {
     "data": {
      "text/plain": [
       "ucb_pol (generic function with 1 method)"
      ]
     },
     "execution_count": 53,
     "metadata": {},
     "output_type": "execute_result"
    }
   ],
   "source": [
    "function ucb_pol(li, policy, priors, i, actions, s)\n",
    "    best_action = action(policy, s)\n",
    "    # println(\"in state: $s, best action:$best_action\")\n",
    "    return action(policy, s)\n",
    "end"
   ]
  },
  {
   "cell_type": "code",
   "execution_count": 60,
   "metadata": {},
   "outputs": [
    {
     "data": {
      "text/plain": [
       "ucb_update_priors (generic function with 1 method)"
      ]
     },
     "execution_count": 60,
     "metadata": {},
     "output_type": "execute_result"
    }
   ],
   "source": [
    "# li = LinearIndices((num_chains, num_states))\n",
    "function ucb_update_priors(priors, history, i)\n",
    "    return priors\n",
    "end"
   ]
  },
  {
   "cell_type": "code",
   "execution_count": 55,
   "metadata": {},
   "outputs": [
    {
     "data": {
      "text/plain": [
       "ucb_mdp_builder (generic function with 1 method)"
      ]
     },
     "execution_count": 55,
     "metadata": {},
     "output_type": "execute_result"
    }
   ],
   "source": [
    "curry(f, x) = (xs...) -> f(x, xs...)\n",
    "function ucb_mdp_builder(true_mdp, priors, i, num_states, num_chains, steps)\n",
    "  # build mdp\n",
    "  new_means = priors.theta + priors.std\n",
    "  println(\"new means: $new_means, std: $(priors.std), num_chains:$num_chains, num_states:$num_states, i:$i, mdp:$(typeof(true_mdp))\")\n",
    "\n",
    "  mdp = PParallelChainMDP(num_states+1,num_chains, .9,\n",
    "        new_means,\n",
    "        priors.std,\n",
    "        MersenneTwister(1235))\n",
    "  println(\"#2\")\n",
    "  # solve mdp\n",
    "  println(\"#3\")\n",
    "  solver = ValueIterationSolver(max_iterations=1000, belres=1e-6, include_Q=true) # initializes the Solver type\n",
    "  vip = solve(solver, mdp)\n",
    "  li = LinearIndices((num_chains, num_states))\n",
    "  #print(\"policy q: $(vip.qmat)\")\n",
    "  new_policy = FunctionPolicy(curry(curry(curry(curry(curry(ucb_pol, li), vip), priors),i), actions))\n",
    "  # print(\"new policy: $new_policy\")\n",
    "  # return iterator solved mdp\n",
    "  return Iterators.Stateful(stepthrough(deepcopy(true_mdp), new_policy, \"s,a,r,sp,t\",\n",
    "                            max_steps=steps))\n",
    "end"
   ]
  },
  {
   "cell_type": "code",
   "execution_count": 29,
   "metadata": {},
   "outputs": [
    {
     "data": {
      "text/plain": [
       "update_priors (generic function with 1 method)"
      ]
     },
     "execution_count": 29,
     "metadata": {},
     "output_type": "execute_result"
    }
   ],
   "source": [
    "\n",
    "do_update_priors() =  false\n",
    "update_priors() = false"
   ]
  },
  {
   "cell_type": "code",
   "execution_count": 59,
   "metadata": {},
   "outputs": [
    {
     "name": "stdout",
     "output_type": "stream",
     "text": [
      "[-11.0276, 18.6375, -184.418, 54.9143, -227.549, 82.2941, -10.8835, 19.4219, 58.0705, -21.0394]\n",
      "true mdp: 10×2 DataFrame\n",
      "│ Row │ theta    │ std   │\n",
      "│     │ Float64  │ Int64 │\n",
      "├─────┼──────────┼───────┤\n",
      "│ 1   │ -11.0276 │ 1     │\n",
      "│ 2   │ 18.6375  │ 1     │\n",
      "│ 3   │ -184.418 │ 1     │\n",
      "│ 4   │ 54.9143  │ 1     │\n",
      "│ 5   │ -227.549 │ 1     │\n",
      "│ 6   │ 82.2941  │ 1     │\n",
      "│ 7   │ -10.8835 │ 1     │\n",
      "│ 8   │ 19.4219  │ 1     │\n",
      "│ 9   │ 58.0705  │ 1     │\n",
      "│ 10  │ -21.0394 │ 1     │new means: [-9.0276, 21.6375, -180.418, 59.9143, -221.549, 89.2941, -2.88354, 28.4219, 68.0705, -10.0394], std: [2, 3, 4, 5, 6, 7, 8, 9, 10, 11], num_chains:10, num_states:30, i:1, mdp:PParallelChainMDP\n",
      "#2\n",
      "#3\n",
      "e: 1, t: 1, agent 1, result: (s = [1, 1], a = 6, r = 0, sp = [6, 2], t = 1)\n",
      "new means: [-9.0276, 21.6375, -180.418, 59.9143, -221.549, 89.2941, -2.88354, 28.4219, 68.0705, -10.0394], std: [2, 3, 4, 5, 6, 7, 8, 9, 10, 11], num_chains:10, num_states:30, i:2, mdp:PParallelChainMDP\n",
      "#2\n",
      "#3\n",
      "e: 1, t: 2, agent 1, result: (s = [6, 2], a = 1, r = 0, sp = [6, 3], t = 2)\n",
      "e: 1, t: 1, agent 2, result: (s = [1, 1], a = 6, r = 0, sp = [6, 2], t = 1)\n",
      "new means: [-9.0276, 21.6375, -180.418, 59.9143, -221.549, 89.2941, -2.88354, 28.4219, 68.0705, -10.0394], std: [2, 3, 4, 5, 6, 7, 8, 9, 10, 11], num_chains:10, num_states:30, i:3, mdp:PParallelChainMDP\n",
      "#2\n",
      "#3\n",
      "e: 1, t: 3, agent 1, result: (s = [6, 3], a = 1, r = 0, sp = [6, 4], t = 3)\n",
      "e: 1, t: 2, agent 2, result: (s = [6, 2], a = 1, r = 0, sp = [6, 3], t = 2)\n",
      "e: 1, t: 1, agent 3, result: (s = [1, 1], a = 6, r = 0, sp = [6, 2], t = 1)\n",
      "e: 1, t: 4, agent 1, result: (s = [6, 4], a = 1, r = 0, sp = [6, 5], t = 4)\n",
      "e: 1, t: 3, agent 2, result: (s = [6, 3], a = 1, r = 0, sp = [6, 4], t = 3)\n",
      "e: 1, t: 2, agent 3, result: (s = [6, 2], a = 1, r = 0, sp = [6, 3], t = 2)\n",
      "e: 1, t: 5, agent 1, result: (s = [6, 5], a = 1, r = 0, sp = [6, 6], t = 5)\n",
      "e: 1, t: 4, agent 2, result: (s = [6, 4], a = 1, r = 0, sp = [6, 5], t = 4)\n",
      "e: 1, t: 3, agent 3, result: (s = [6, 3], a = 1, r = 0, sp = [6, 4], t = 3)\n",
      "e: 1, t: 6, agent 1, result: (s = [6, 6], a = 1, r = 0, sp = [6, 7], t = 6)\n",
      "e: 1, t: 5, agent 2, result: (s = [6, 5], a = 1, r = 0, sp = [6, 6], t = 5)\n",
      "e: 1, t: 4, agent 3, result: (s = [6, 4], a = 1, r = 0, sp = [6, 5], t = 4)\n",
      "e: 1, t: 7, agent 1, result: (s = [6, 7], a = 1, r = 0, sp = [6, 8], t = 7)\n",
      "e: 1, t: 6, agent 2, result: (s = [6, 6], a = 1, r = 0, sp = [6, 7], t = 6)\n",
      "e: 1, t: 5, agent 3, result: (s = [6, 5], a = 1, r = 0, sp = [6, 6], t = 5)\n",
      "e: 1, t: 8, agent 1, result: (s = [6, 8], a = 1, r = 0, sp = [6, 9], t = 8)\n",
      "e: 1, t: 7, agent 2, result: (s = [6, 7], a = 1, r = 0, sp = [6, 8], t = 7)\n",
      "e: 1, t: 6, agent 3, result: (s = [6, 6], a = 1, r = 0, sp = [6, 7], t = 6)\n",
      "e: 1, t: 9, agent 1, result: (s = [6, 9], a = 1, r = 0, sp = [6, 10], t = 9)\n",
      "e: 1, t: 8, agent 2, result: (s = [6, 8], a = 1, r = 0, sp = [6, 9], t = 8)\n",
      "e: 1, t: 7, agent 3, result: (s = [6, 7], a = 1, r = 0, sp = [6, 8], t = 7)\n",
      "e: 1, t: 10, agent 1, result: (s = [6, 10], a = 1, r = 0, sp = [6, 11], t = 10)\n",
      "e: 1, t: 9, agent 2, result: (s = [6, 9], a = 1, r = 0, sp = [6, 10], t = 9)\n",
      "e: 1, t: 8, agent 3, result: (s = [6, 8], a = 1, r = 0, sp = [6, 9], t = 8)\n",
      "e: 1, t: 11, agent 1, result: (s = [6, 11], a = 1, r = 0, sp = [6, 12], t = 11)\n",
      "e: 1, t: 10, agent 2, result: (s = [6, 10], a = 1, r = 0, sp = [6, 11], t = 10)\n",
      "e: 1, t: 9, agent 3, result: (s = [6, 9], a = 1, r = 0, sp = [6, 10], t = 9)\n",
      "e: 1, t: 12, agent 1, result: (s = [6, 12], a = 1, r = 0, sp = [6, 13], t = 12)\n",
      "e: 1, t: 11, agent 2, result: (s = [6, 11], a = 1, r = 0, sp = [6, 12], t = 11)\n",
      "e: 1, t: 10, agent 3, result: (s = [6, 10], a = 1, r = 0, sp = [6, 11], t = 10)\n",
      "e: 1, t: 13, agent 1, result: (s = [6, 13], a = 1, r = 0, sp = [6, 14], t = 13)\n",
      "e: 1, t: 12, agent 2, result: (s = [6, 12], a = 1, r = 0, sp = [6, 13], t = 12)\n",
      "e: 1, t: 11, agent 3, result: (s = [6, 11], a = 1, r = 0, sp = [6, 12], t = 11)\n",
      "e: 1, t: 14, agent 1, result: (s = [6, 14], a = 1, r = 0, sp = [6, 15], t = 14)\n",
      "e: 1, t: 13, agent 2, result: (s = [6, 13], a = 1, r = 0, sp = [6, 14], t = 13)\n",
      "e: 1, t: 12, agent 3, result: (s = [6, 12], a = 1, r = 0, sp = [6, 13], t = 12)\n",
      "e: 1, t: 15, agent 1, result: (s = [6, 15], a = 1, r = 0, sp = [6, 16], t = 15)\n",
      "e: 1, t: 14, agent 2, result: (s = [6, 14], a = 1, r = 0, sp = [6, 15], t = 14)\n",
      "e: 1, t: 13, agent 3, result: (s = [6, 13], a = 1, r = 0, sp = [6, 14], t = 13)\n",
      "e: 1, t: 16, agent 1, result: (s = [6, 16], a = 1, r = 0, sp = [6, 17], t = 16)\n",
      "e: 1, t: 15, agent 2, result: (s = [6, 15], a = 1, r = 0, sp = [6, 16], t = 15)\n",
      "e: 1, t: 14, agent 3, result: (s = [6, 14], a = 1, r = 0, sp = [6, 15], t = 14)\n",
      "e: 1, t: 17, agent 1, result: (s = [6, 17], a = 1, r = 0, sp = [6, 18], t = 17)\n",
      "e: 1, t: 16, agent 2, result: (s = [6, 16], a = 1, r = 0, sp = [6, 17], t = 16)\n",
      "e: 1, t: 15, agent 3, result: (s = [6, 15], a = 1, r = 0, sp = [6, 16], t = 15)\n",
      "e: 1, t: 18, agent 1, result: (s = [6, 18], a = 1, r = 0, sp = [6, 19], t = 18)\n",
      "e: 1, t: 17, agent 2, result: (s = [6, 17], a = 1, r = 0, sp = [6, 18], t = 17)\n",
      "e: 1, t: 16, agent 3, result: (s = [6, 16], a = 1, r = 0, sp = [6, 17], t = 16)\n",
      "e: 1, t: 19, agent 1, result: (s = [6, 19], a = 1, r = 0, sp = [6, 20], t = 19)\n",
      "e: 1, t: 18, agent 2, result: (s = [6, 18], a = 1, r = 0, sp = [6, 19], t = 18)\n",
      "e: 1, t: 17, agent 3, result: (s = [6, 17], a = 1, r = 0, sp = [6, 18], t = 17)\n",
      "e: 1, t: 20, agent 1, result: (s = [6, 20], a = 1, r = 0, sp = [6, 21], t = 20)\n",
      "e: 1, t: 19, agent 2, result: (s = [6, 19], a = 1, r = 0, sp = [6, 20], t = 19)\n",
      "e: 1, t: 18, agent 3, result: (s = [6, 18], a = 1, r = 0, sp = [6, 19], t = 18)\n",
      "e: 1, t: 21, agent 1, result: (s = [6, 21], a = 1, r = 0, sp = [6, 22], t = 21)\n",
      "e: 1, t: 20, agent 2, result: (s = [6, 20], a = 1, r = 0, sp = [6, 21], t = 20)\n",
      "e: 1, t: 19, agent 3, result: (s = [6, 19], a = 1, r = 0, sp = [6, 20], t = 19)\n",
      "e: 1, t: 22, agent 1, result: (s = [6, 22], a = 1, r = 0, sp = [6, 23], t = 22)\n",
      "e: 1, t: 21, agent 2, result: (s = [6, 21], a = 1, r = 0, sp = [6, 22], t = 21)\n",
      "e: 1, t: 20, agent 3, result: (s = [6, 20], a = 1, r = 0, sp = [6, 21], t = 20)\n",
      "e: 1, t: 23, agent 1, result: (s = [6, 23], a = 1, r = 0, sp = [6, 24], t = 23)\n",
      "e: 1, t: 22, agent 2, result: (s = [6, 22], a = 1, r = 0, sp = [6, 23], t = 22)\n",
      "e: 1, t: 21, agent 3, result: (s = [6, 21], a = 1, r = 0, sp = [6, 22], t = 21)\n",
      "e: 1, t: 24, agent 1, result: (s = [6, 24], a = 1, r = 0, sp = [6, 25], t = 24)\n",
      "e: 1, t: 23, agent 2, result: (s = [6, 23], a = 1, r = 0, sp = [6, 24], t = 23)\n",
      "e: 1, t: 22, agent 3, result: (s = [6, 22], a = 1, r = 0, sp = [6, 23], t = 22)\n",
      "e: 1, t: 25, agent 1, result: (s = [6, 25], a = 1, r = 0, sp = [6, 26], t = 25)\n",
      "e: 1, t: 24, agent 2, result: (s = [6, 24], a = 1, r = 0, sp = [6, 25], t = 24)\n",
      "e: 1, t: 23, agent 3, result: (s = [6, 23], a = 1, r = 0, sp = [6, 24], t = 23)\n",
      "e: 1, t: 26, agent 1, result: (s = [6, 26], a = 1, r = 0, sp = [6, 27], t = 26)\n",
      "e: 1, t: 25, agent 2, result: (s = [6, 25], a = 1, r = 0, sp = [6, 26], t = 25)\n",
      "e: 1, t: 24, agent 3, result: (s = [6, 24], a = 1, r = 0, sp = [6, 25], t = 24)\n",
      "e: 1, t: 27, agent 1, result: (s = [6, 27], a = 1, r = 0, sp = [6, 28], t = 27)\n",
      "e: 1, t: 26, agent 2, result: (s = [6, 26], a = 1, r = 0, sp = [6, 27], t = 26)\n",
      "e: 1, t: 25, agent 3, result: (s = [6, 25], a = 1, r = 0, sp = [6, 26], t = 25)\n",
      "e: 1, t: 28, agent 1, result: (s = [6, 28], a = 1, r = 0, sp = [6, 29], t = 28)\n",
      "e: 1, t: 27, agent 2, result: (s = [6, 27], a = 1, r = 0, sp = [6, 28], t = 27)\n",
      "e: 1, t: 26, agent 3, result: (s = [6, 26], a = 1, r = 0, sp = [6, 27], t = 26)\n",
      "e: 1, t: 29, agent 1, result: (s = [6, 29], a = 1, r = 0, sp = [6, 30], t = 29)\n",
      "e: 1, t: 28, agent 2, result: (s = [6, 28], a = 1, r = 0, sp = [6, 29], t = 28)\n",
      "e: 1, t: 27, agent 3, result: (s = [6, 27], a = 1, r = 0, sp = [6, 28], t = 27)\n",
      "e: 1, t: 30, agent 1, result: (s = [6, 30], a = 1, r = 81.30541692118248, sp = [6, 31], t = 30)\n",
      "e: 1, t: 29, agent 2, result: (s = [6, 29], a = 1, r = 0, sp = [6, 30], t = 29)\n",
      "e: 1, t: 28, agent 3, result: (s = [6, 28], a = 1, r = 0, sp = [6, 29], t = 28)\n",
      "agent 1 is done\n",
      "e: 1, t: 30, agent 2, result: (s = [6, 30], a = 1, r = 81.30541692118248, sp = [6, 31], t = 30)\n",
      "e: 1, t: 29, agent 3, result: (s = [6, 29], a = 1, r = 0, sp = [6, 30], t = 29)\n",
      "agent 1 is done\n",
      "agent 2 is done\n",
      "e: 1, t: 30, agent 3, result: (s = [6, 30], a = 1, r = 81.30541692118248, sp = [6, 31], t = 30)\n",
      "(e,i,t,st,r)\n"
     ]
    },
    {
     "data": {
      "text/plain": [
       "90-element Array{Any,1}:\n",
       " (1, 1, 1, [1, 1], 0)                  \n",
       " (1, 1, 2, [6, 2], 0)                  \n",
       " (1, 2, 1, [1, 1], 0)                  \n",
       " (1, 1, 3, [6, 3], 0)                  \n",
       " (1, 2, 2, [6, 2], 0)                  \n",
       " (1, 3, 1, [1, 1], 0)                  \n",
       " (1, 1, 4, [6, 4], 0)                  \n",
       " (1, 2, 3, [6, 3], 0)                  \n",
       " (1, 3, 2, [6, 2], 0)                  \n",
       " (1, 1, 5, [6, 5], 0)                  \n",
       " (1, 2, 4, [6, 4], 0)                  \n",
       " (1, 3, 3, [6, 3], 0)                  \n",
       " (1, 1, 6, [6, 6], 0)                  \n",
       " ⋮                                     \n",
       " (1, 1, 28, [6, 28], 0)                \n",
       " (1, 2, 27, [6, 27], 0)                \n",
       " (1, 3, 26, [6, 26], 0)                \n",
       " (1, 1, 29, [6, 29], 0)                \n",
       " (1, 2, 28, [6, 28], 0)                \n",
       " (1, 3, 27, [6, 27], 0)                \n",
       " (1, 1, 30, [6, 30], 81.30541692118248)\n",
       " (1, 2, 29, [6, 29], 0)                \n",
       " (1, 3, 28, [6, 28], 0)                \n",
       " (1, 2, 30, [6, 30], 81.30541692118248)\n",
       " (1, 3, 29, [6, 29], 0)                \n",
       " (1, 3, 30, [6, 30], 81.30541692118248)"
      ]
     },
     "execution_count": 59,
     "metadata": {},
     "output_type": "execute_result"
    }
   ],
   "source": [
    "\n",
    "\n",
    "# UCB\n",
    "using Distributions\n",
    "\n",
    "include(\"./ParallelChains.jl\")\n",
    "# setup constants here\n",
    "num_agents = 3\n",
    "num_chains = 10\n",
    "num_states = 30\n",
    "epochs = 1\n",
    "H = 30\n",
    "\n",
    "# So best idea:\n",
    "# for ucb:\n",
    "# we generate an mdp with mu + sigma rewards (priors) for each end node.\n",
    "#  we collect history until the criteria in PAC-EXPLORE then update the prior\n",
    "# \n",
    "# for thompson sampling\n",
    "# at each time step (might skip this for this problem and save for max rew path) \n",
    "#   take rewards and use to create a posterior.\n",
    "# for seed sampling\n",
    "# at beginning of episode\n",
    "#   each agent generates a new random \"seed\" \n",
    "#   at each time step\n",
    "#     each agent generates a new mdp based on a deterministic mapping from seed to rewards (which also takes\n",
    "#              history into account)\n",
    "# this needs to update the actual reward.\n",
    "\n",
    "## PC notes\n",
    "## theta_c ~ N(0, 100 + c)\n",
    "r_mean = 0\n",
    "r_std = 1\n",
    "## sigma is 1\n",
    "## Reward is noisy ~ N(theta_c, sigma^2)\n",
    "## Initial prior mean is N(theta_c, sigma^2 + c)\n",
    "rng = MersenneTwister(1235)\n",
    "th_c = [randn(rng, Float64, 1)[1] * (100 + i) for i in 1:num_chains]\n",
    "println(th_c)\n",
    "true_values = DataFrame(theta = th_c,\n",
    "                         std = [r_std  for i in 1:num_chains])\n",
    "print(\"true mdp: $true_values\")\n",
    "priors = DataFrame(theta = [true_values.theta[i] for i in 1:num_chains],\n",
    "                    std = [r_std + i for i in 1:num_chains])\n",
    "mdp = PParallelChainMDP(num_states+1,num_chains, .9,\n",
    "        true_values.theta,\n",
    "        true_values.std, \n",
    "        rng)\n",
    "do_update_priors() =  false\n",
    "# priors = randn(rng, Float32, num_chains) .* (r_std + c) .+ r_mean\n",
    "hist = run_chain!(\n",
    "           mdp_iter_builder=ucb_mdp_builder,\n",
    "           true_mdp=mdp,\n",
    "           do_update_priors=do_update_priors,\n",
    "           update_priors=update_priors,\n",
    "           priors=priors,\n",
    "           n_agents=num_agents,\n",
    "           num_states=num_states,\n",
    "           num_chains=num_chains,\n",
    "           epochs=epochs,\n",
    "           steps=H) #,\n",
    "           #rev_action_map=rev_action_map)\n",
    "#print(Q_tables)\n",
    "println(\"(e,i,t,st,r)\")\n",
    "hist"
   ]
  },
  {
   "cell_type": "code",
   "execution_count": null,
   "metadata": {},
   "outputs": [],
   "source": []
  },
  {
   "cell_type": "code",
   "execution_count": null,
   "metadata": {},
   "outputs": [],
   "source": []
  }
 ],
 "metadata": {
  "kernelspec": {
   "display_name": "Julia 1.0.0",
   "language": "julia",
   "name": "julia-1.0"
  },
  "language_info": {
   "file_extension": ".jl",
   "mimetype": "application/julia",
   "name": "julia",
   "version": "1.0.0"
  }
 },
 "nbformat": 4,
 "nbformat_minor": 2
}
